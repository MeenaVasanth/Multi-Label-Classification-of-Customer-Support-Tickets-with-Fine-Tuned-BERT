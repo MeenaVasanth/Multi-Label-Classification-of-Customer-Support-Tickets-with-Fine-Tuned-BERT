{
 "cells": [
  {
   "cell_type": "markdown",
   "metadata": {},
   "source": [
    "# Step 1: Importing Required Libraries"
   ]
  },
  {
   "cell_type": "code",
   "execution_count": 1,
   "metadata": {},
   "outputs": [
    {
     "name": "stderr",
     "output_type": "stream",
     "text": [
      "c:\\Users\\ADMIN\\Desktop\\Multi-Label Classification of Customer Support Tickets with Fine-Tuned BERT\\venv\\lib\\site-packages\\tqdm\\auto.py:21: TqdmWarning: IProgress not found. Please update jupyter and ipywidgets. See https://ipywidgets.readthedocs.io/en/stable/user_install.html\n",
      "  from .autonotebook import tqdm as notebook_tqdm\n"
     ]
    }
   ],
   "source": [
    "import pandas as pd\n",
    "import numpy as np\n",
    "import re\n",
    "import matplotlib.pyplot as plt\n",
    "import torch\n",
    "import time\n",
    "from sklearn.model_selection import train_test_split\n",
    "from sklearn.preprocessing import MultiLabelBinarizer\n",
    "from sklearn.metrics import accuracy_score, classification_report\n",
    "from transformers import BertTokenizer, BertForSequenceClassification, AdamW\n",
    "from torch.utils.data import DataLoader, TensorDataset\n",
    "from tqdm import tqdm"
   ]
  },
  {
   "cell_type": "markdown",
   "metadata": {},
   "source": [
    "# Step 2: Load and Preprocess the Dataset"
   ]
  },
  {
   "cell_type": "code",
   "execution_count": 2,
   "metadata": {},
   "outputs": [],
   "source": [
    "file_path = 'Electronics_5.csv'\n",
    "df = pd.read_csv(file_path)"
   ]
  },
  {
   "cell_type": "code",
   "execution_count": 3,
   "metadata": {},
   "outputs": [
    {
     "data": {
      "text/html": [
       "<div>\n",
       "<style scoped>\n",
       "    .dataframe tbody tr th:only-of-type {\n",
       "        vertical-align: middle;\n",
       "    }\n",
       "\n",
       "    .dataframe tbody tr th {\n",
       "        vertical-align: top;\n",
       "    }\n",
       "\n",
       "    .dataframe thead th {\n",
       "        text-align: right;\n",
       "    }\n",
       "</style>\n",
       "<table border=\"1\" class=\"dataframe\">\n",
       "  <thead>\n",
       "    <tr style=\"text-align: right;\">\n",
       "      <th></th>\n",
       "      <th>reviewerID</th>\n",
       "      <th>asin</th>\n",
       "      <th>reviewerName</th>\n",
       "      <th>helpful</th>\n",
       "      <th>reviewText</th>\n",
       "      <th>overall</th>\n",
       "      <th>summary</th>\n",
       "      <th>unixReviewTime</th>\n",
       "      <th>reviewTime</th>\n",
       "    </tr>\n",
       "  </thead>\n",
       "  <tbody>\n",
       "    <tr>\n",
       "      <th>0</th>\n",
       "      <td>AO94DHGC771SJ</td>\n",
       "      <td>528881469</td>\n",
       "      <td>amazdnu</td>\n",
       "      <td>[0, 0]</td>\n",
       "      <td>We got this GPS for my husband who is an (OTR)...</td>\n",
       "      <td>5</td>\n",
       "      <td>Gotta have GPS!</td>\n",
       "      <td>1370131200</td>\n",
       "      <td>06 2, 2013</td>\n",
       "    </tr>\n",
       "    <tr>\n",
       "      <th>1</th>\n",
       "      <td>AMO214LNFCEI4</td>\n",
       "      <td>528881469</td>\n",
       "      <td>Amazon Customer</td>\n",
       "      <td>[12, 15]</td>\n",
       "      <td>I'm a professional OTR truck driver, and I bou...</td>\n",
       "      <td>1</td>\n",
       "      <td>Very Disappointed</td>\n",
       "      <td>1290643200</td>\n",
       "      <td>11 25, 2010</td>\n",
       "    </tr>\n",
       "    <tr>\n",
       "      <th>2</th>\n",
       "      <td>A3N7T0DY83Y4IG</td>\n",
       "      <td>528881469</td>\n",
       "      <td>C. A. Freeman</td>\n",
       "      <td>[43, 45]</td>\n",
       "      <td>Well, what can I say.  I've had this unit in m...</td>\n",
       "      <td>3</td>\n",
       "      <td>1st impression</td>\n",
       "      <td>1283990400</td>\n",
       "      <td>09 9, 2010</td>\n",
       "    </tr>\n",
       "    <tr>\n",
       "      <th>3</th>\n",
       "      <td>A1H8PY3QHMQQA0</td>\n",
       "      <td>528881469</td>\n",
       "      <td>Dave M. Shaw \"mack dave\"</td>\n",
       "      <td>[9, 10]</td>\n",
       "      <td>Not going to write a long review, even thought...</td>\n",
       "      <td>2</td>\n",
       "      <td>Great grafics, POOR GPS</td>\n",
       "      <td>1290556800</td>\n",
       "      <td>11 24, 2010</td>\n",
       "    </tr>\n",
       "    <tr>\n",
       "      <th>4</th>\n",
       "      <td>A24EV6RXELQZ63</td>\n",
       "      <td>528881469</td>\n",
       "      <td>Wayne Smith</td>\n",
       "      <td>[0, 0]</td>\n",
       "      <td>I've had mine for a year and here's what we go...</td>\n",
       "      <td>1</td>\n",
       "      <td>Major issues, only excuses for support</td>\n",
       "      <td>1317254400</td>\n",
       "      <td>09 29, 2011</td>\n",
       "    </tr>\n",
       "  </tbody>\n",
       "</table>\n",
       "</div>"
      ],
      "text/plain": [
       "       reviewerID       asin              reviewerName   helpful  \\\n",
       "0   AO94DHGC771SJ  528881469                   amazdnu    [0, 0]   \n",
       "1   AMO214LNFCEI4  528881469           Amazon Customer  [12, 15]   \n",
       "2  A3N7T0DY83Y4IG  528881469             C. A. Freeman  [43, 45]   \n",
       "3  A1H8PY3QHMQQA0  528881469  Dave M. Shaw \"mack dave\"   [9, 10]   \n",
       "4  A24EV6RXELQZ63  528881469               Wayne Smith    [0, 0]   \n",
       "\n",
       "                                          reviewText  overall  \\\n",
       "0  We got this GPS for my husband who is an (OTR)...        5   \n",
       "1  I'm a professional OTR truck driver, and I bou...        1   \n",
       "2  Well, what can I say.  I've had this unit in m...        3   \n",
       "3  Not going to write a long review, even thought...        2   \n",
       "4  I've had mine for a year and here's what we go...        1   \n",
       "\n",
       "                                  summary  unixReviewTime   reviewTime  \n",
       "0                         Gotta have GPS!      1370131200   06 2, 2013  \n",
       "1                       Very Disappointed      1290643200  11 25, 2010  \n",
       "2                          1st impression      1283990400   09 9, 2010  \n",
       "3                 Great grafics, POOR GPS      1290556800  11 24, 2010  \n",
       "4  Major issues, only excuses for support      1317254400  09 29, 2011  "
      ]
     },
     "execution_count": 3,
     "metadata": {},
     "output_type": "execute_result"
    }
   ],
   "source": [
    "df.head()"
   ]
  },
  {
   "cell_type": "code",
   "execution_count": 4,
   "metadata": {},
   "outputs": [],
   "source": [
    "df = df.dropna(subset=['reviewText', 'summary'])\n",
    "df = df.drop_duplicates(subset=['reviewerID', 'asin'])"
   ]
  },
  {
   "cell_type": "code",
   "execution_count": 5,
   "metadata": {},
   "outputs": [
    {
     "data": {
      "text/html": [
       "<div>\n",
       "<style scoped>\n",
       "    .dataframe tbody tr th:only-of-type {\n",
       "        vertical-align: middle;\n",
       "    }\n",
       "\n",
       "    .dataframe tbody tr th {\n",
       "        vertical-align: top;\n",
       "    }\n",
       "\n",
       "    .dataframe thead th {\n",
       "        text-align: right;\n",
       "    }\n",
       "</style>\n",
       "<table border=\"1\" class=\"dataframe\">\n",
       "  <thead>\n",
       "    <tr style=\"text-align: right;\">\n",
       "      <th></th>\n",
       "      <th>reviewerID</th>\n",
       "      <th>asin</th>\n",
       "      <th>reviewerName</th>\n",
       "      <th>helpful</th>\n",
       "      <th>reviewText</th>\n",
       "      <th>overall</th>\n",
       "      <th>summary</th>\n",
       "      <th>unixReviewTime</th>\n",
       "      <th>reviewTime</th>\n",
       "    </tr>\n",
       "  </thead>\n",
       "  <tbody>\n",
       "    <tr>\n",
       "      <th>0</th>\n",
       "      <td>AO94DHGC771SJ</td>\n",
       "      <td>528881469</td>\n",
       "      <td>amazdnu</td>\n",
       "      <td>[0, 0]</td>\n",
       "      <td>We got this GPS for my husband who is an (OTR)...</td>\n",
       "      <td>5</td>\n",
       "      <td>Gotta have GPS!</td>\n",
       "      <td>1370131200</td>\n",
       "      <td>06 2, 2013</td>\n",
       "    </tr>\n",
       "    <tr>\n",
       "      <th>1</th>\n",
       "      <td>AMO214LNFCEI4</td>\n",
       "      <td>528881469</td>\n",
       "      <td>Amazon Customer</td>\n",
       "      <td>[12, 15]</td>\n",
       "      <td>I'm a professional OTR truck driver, and I bou...</td>\n",
       "      <td>1</td>\n",
       "      <td>Very Disappointed</td>\n",
       "      <td>1290643200</td>\n",
       "      <td>11 25, 2010</td>\n",
       "    </tr>\n",
       "    <tr>\n",
       "      <th>2</th>\n",
       "      <td>A3N7T0DY83Y4IG</td>\n",
       "      <td>528881469</td>\n",
       "      <td>C. A. Freeman</td>\n",
       "      <td>[43, 45]</td>\n",
       "      <td>Well, what can I say.  I've had this unit in m...</td>\n",
       "      <td>3</td>\n",
       "      <td>1st impression</td>\n",
       "      <td>1283990400</td>\n",
       "      <td>09 9, 2010</td>\n",
       "    </tr>\n",
       "    <tr>\n",
       "      <th>3</th>\n",
       "      <td>A1H8PY3QHMQQA0</td>\n",
       "      <td>528881469</td>\n",
       "      <td>Dave M. Shaw \"mack dave\"</td>\n",
       "      <td>[9, 10]</td>\n",
       "      <td>Not going to write a long review, even thought...</td>\n",
       "      <td>2</td>\n",
       "      <td>Great grafics, POOR GPS</td>\n",
       "      <td>1290556800</td>\n",
       "      <td>11 24, 2010</td>\n",
       "    </tr>\n",
       "    <tr>\n",
       "      <th>4</th>\n",
       "      <td>A24EV6RXELQZ63</td>\n",
       "      <td>528881469</td>\n",
       "      <td>Wayne Smith</td>\n",
       "      <td>[0, 0]</td>\n",
       "      <td>I've had mine for a year and here's what we go...</td>\n",
       "      <td>1</td>\n",
       "      <td>Major issues, only excuses for support</td>\n",
       "      <td>1317254400</td>\n",
       "      <td>09 29, 2011</td>\n",
       "    </tr>\n",
       "  </tbody>\n",
       "</table>\n",
       "</div>"
      ],
      "text/plain": [
       "       reviewerID       asin              reviewerName   helpful  \\\n",
       "0   AO94DHGC771SJ  528881469                   amazdnu    [0, 0]   \n",
       "1   AMO214LNFCEI4  528881469           Amazon Customer  [12, 15]   \n",
       "2  A3N7T0DY83Y4IG  528881469             C. A. Freeman  [43, 45]   \n",
       "3  A1H8PY3QHMQQA0  528881469  Dave M. Shaw \"mack dave\"   [9, 10]   \n",
       "4  A24EV6RXELQZ63  528881469               Wayne Smith    [0, 0]   \n",
       "\n",
       "                                          reviewText  overall  \\\n",
       "0  We got this GPS for my husband who is an (OTR)...        5   \n",
       "1  I'm a professional OTR truck driver, and I bou...        1   \n",
       "2  Well, what can I say.  I've had this unit in m...        3   \n",
       "3  Not going to write a long review, even thought...        2   \n",
       "4  I've had mine for a year and here's what we go...        1   \n",
       "\n",
       "                                  summary  unixReviewTime   reviewTime  \n",
       "0                         Gotta have GPS!      1370131200   06 2, 2013  \n",
       "1                       Very Disappointed      1290643200  11 25, 2010  \n",
       "2                          1st impression      1283990400   09 9, 2010  \n",
       "3                 Great grafics, POOR GPS      1290556800  11 24, 2010  \n",
       "4  Major issues, only excuses for support      1317254400  09 29, 2011  "
      ]
     },
     "execution_count": 5,
     "metadata": {},
     "output_type": "execute_result"
    }
   ],
   "source": [
    "df.head()"
   ]
  },
  {
   "cell_type": "code",
   "execution_count": 6,
   "metadata": {},
   "outputs": [],
   "source": [
    "df['text'] = df['reviewText'] + \" \" + df['summary']"
   ]
  },
  {
   "cell_type": "code",
   "execution_count": 7,
   "metadata": {},
   "outputs": [
    {
     "data": {
      "text/html": [
       "<div>\n",
       "<style scoped>\n",
       "    .dataframe tbody tr th:only-of-type {\n",
       "        vertical-align: middle;\n",
       "    }\n",
       "\n",
       "    .dataframe tbody tr th {\n",
       "        vertical-align: top;\n",
       "    }\n",
       "\n",
       "    .dataframe thead th {\n",
       "        text-align: right;\n",
       "    }\n",
       "</style>\n",
       "<table border=\"1\" class=\"dataframe\">\n",
       "  <thead>\n",
       "    <tr style=\"text-align: right;\">\n",
       "      <th></th>\n",
       "      <th>reviewText</th>\n",
       "      <th>summary</th>\n",
       "      <th>text</th>\n",
       "    </tr>\n",
       "  </thead>\n",
       "  <tbody>\n",
       "    <tr>\n",
       "      <th>0</th>\n",
       "      <td>We got this GPS for my husband who is an (OTR)...</td>\n",
       "      <td>Gotta have GPS!</td>\n",
       "      <td>We got this GPS for my husband who is an (OTR)...</td>\n",
       "    </tr>\n",
       "    <tr>\n",
       "      <th>1</th>\n",
       "      <td>I'm a professional OTR truck driver, and I bou...</td>\n",
       "      <td>Very Disappointed</td>\n",
       "      <td>I'm a professional OTR truck driver, and I bou...</td>\n",
       "    </tr>\n",
       "    <tr>\n",
       "      <th>2</th>\n",
       "      <td>Well, what can I say.  I've had this unit in m...</td>\n",
       "      <td>1st impression</td>\n",
       "      <td>Well, what can I say.  I've had this unit in m...</td>\n",
       "    </tr>\n",
       "    <tr>\n",
       "      <th>3</th>\n",
       "      <td>Not going to write a long review, even thought...</td>\n",
       "      <td>Great grafics, POOR GPS</td>\n",
       "      <td>Not going to write a long review, even thought...</td>\n",
       "    </tr>\n",
       "    <tr>\n",
       "      <th>4</th>\n",
       "      <td>I've had mine for a year and here's what we go...</td>\n",
       "      <td>Major issues, only excuses for support</td>\n",
       "      <td>I've had mine for a year and here's what we go...</td>\n",
       "    </tr>\n",
       "  </tbody>\n",
       "</table>\n",
       "</div>"
      ],
      "text/plain": [
       "                                          reviewText  \\\n",
       "0  We got this GPS for my husband who is an (OTR)...   \n",
       "1  I'm a professional OTR truck driver, and I bou...   \n",
       "2  Well, what can I say.  I've had this unit in m...   \n",
       "3  Not going to write a long review, even thought...   \n",
       "4  I've had mine for a year and here's what we go...   \n",
       "\n",
       "                                  summary  \\\n",
       "0                         Gotta have GPS!   \n",
       "1                       Very Disappointed   \n",
       "2                          1st impression   \n",
       "3                 Great grafics, POOR GPS   \n",
       "4  Major issues, only excuses for support   \n",
       "\n",
       "                                                text  \n",
       "0  We got this GPS for my husband who is an (OTR)...  \n",
       "1  I'm a professional OTR truck driver, and I bou...  \n",
       "2  Well, what can I say.  I've had this unit in m...  \n",
       "3  Not going to write a long review, even thought...  \n",
       "4  I've had mine for a year and here's what we go...  "
      ]
     },
     "execution_count": 7,
     "metadata": {},
     "output_type": "execute_result"
    }
   ],
   "source": [
    "df[['reviewText', 'summary', 'text']].head()"
   ]
  },
  {
   "cell_type": "code",
   "execution_count": 8,
   "metadata": {},
   "outputs": [],
   "source": [
    "sample_df = df.sample(n=100000, random_state=42)"
   ]
  },
  {
   "cell_type": "code",
   "execution_count": 9,
   "metadata": {},
   "outputs": [
    {
     "data": {
      "text/html": [
       "<div>\n",
       "<style scoped>\n",
       "    .dataframe tbody tr th:only-of-type {\n",
       "        vertical-align: middle;\n",
       "    }\n",
       "\n",
       "    .dataframe tbody tr th {\n",
       "        vertical-align: top;\n",
       "    }\n",
       "\n",
       "    .dataframe thead th {\n",
       "        text-align: right;\n",
       "    }\n",
       "</style>\n",
       "<table border=\"1\" class=\"dataframe\">\n",
       "  <thead>\n",
       "    <tr style=\"text-align: right;\">\n",
       "      <th></th>\n",
       "      <th>reviewerID</th>\n",
       "      <th>asin</th>\n",
       "      <th>reviewerName</th>\n",
       "      <th>helpful</th>\n",
       "      <th>reviewText</th>\n",
       "      <th>overall</th>\n",
       "      <th>summary</th>\n",
       "      <th>unixReviewTime</th>\n",
       "      <th>reviewTime</th>\n",
       "      <th>text</th>\n",
       "    </tr>\n",
       "  </thead>\n",
       "  <tbody>\n",
       "    <tr>\n",
       "      <th>155882</th>\n",
       "      <td>A2TMWQ2Y5427D1</td>\n",
       "      <td>B0009ORXF2</td>\n",
       "      <td>G. C. Robinson</td>\n",
       "      <td>[4, 7]</td>\n",
       "      <td>We bought this to use with the Rhapsody-to-go ...</td>\n",
       "      <td>4</td>\n",
       "      <td>Excellent - but Rhapsody-to-go set-up was a bi...</td>\n",
       "      <td>1146873600</td>\n",
       "      <td>05 6, 2006</td>\n",
       "      <td>We bought this to use with the Rhapsody-to-go ...</td>\n",
       "    </tr>\n",
       "    <tr>\n",
       "      <th>816140</th>\n",
       "      <td>A3UPEG3LRWOX16</td>\n",
       "      <td>B003SF6GYS</td>\n",
       "      <td>Alfredo</td>\n",
       "      <td>[0, 0]</td>\n",
       "      <td>Just what I needed to recharge some of my batt...</td>\n",
       "      <td>4</td>\n",
       "      <td>It Works Well</td>\n",
       "      <td>1372032000</td>\n",
       "      <td>06 24, 2013</td>\n",
       "      <td>Just what I needed to recharge some of my batt...</td>\n",
       "    </tr>\n",
       "    <tr>\n",
       "      <th>471780</th>\n",
       "      <td>A1MKFHRHGKW550</td>\n",
       "      <td>B001GR1C3A</td>\n",
       "      <td>Robert Schuch</td>\n",
       "      <td>[0, 0]</td>\n",
       "      <td>These discs have media code MCC03RG20 and work...</td>\n",
       "      <td>5</td>\n",
       "      <td>Great disc for professional results</td>\n",
       "      <td>1357344000</td>\n",
       "      <td>01 5, 2013</td>\n",
       "      <td>These discs have media code MCC03RG20 and work...</td>\n",
       "    </tr>\n",
       "    <tr>\n",
       "      <th>340520</th>\n",
       "      <td>A12S5Y4JKJD0BZ</td>\n",
       "      <td>B000WL6YY8</td>\n",
       "      <td>Jumbaliah</td>\n",
       "      <td>[3, 3]</td>\n",
       "      <td>As many others have noted, this item is a rede...</td>\n",
       "      <td>4</td>\n",
       "      <td>Buying in 2014?!  READ THIS!!!!</td>\n",
       "      <td>1404518400</td>\n",
       "      <td>07 5, 2014</td>\n",
       "      <td>As many others have noted, this item is a rede...</td>\n",
       "    </tr>\n",
       "    <tr>\n",
       "      <th>926902</th>\n",
       "      <td>A1JY0K8IEVS5U7</td>\n",
       "      <td>B004C35KRO</td>\n",
       "      <td>Amazon Customer</td>\n",
       "      <td>[0, 0]</td>\n",
       "      <td>I have two of these for my Galaxy tablet - the...</td>\n",
       "      <td>5</td>\n",
       "      <td>Solid support</td>\n",
       "      <td>1387584000</td>\n",
       "      <td>12 21, 2013</td>\n",
       "      <td>I have two of these for my Galaxy tablet - the...</td>\n",
       "    </tr>\n",
       "  </tbody>\n",
       "</table>\n",
       "</div>"
      ],
      "text/plain": [
       "            reviewerID        asin     reviewerName helpful  \\\n",
       "155882  A2TMWQ2Y5427D1  B0009ORXF2   G. C. Robinson  [4, 7]   \n",
       "816140  A3UPEG3LRWOX16  B003SF6GYS          Alfredo  [0, 0]   \n",
       "471780  A1MKFHRHGKW550  B001GR1C3A    Robert Schuch  [0, 0]   \n",
       "340520  A12S5Y4JKJD0BZ  B000WL6YY8        Jumbaliah  [3, 3]   \n",
       "926902  A1JY0K8IEVS5U7  B004C35KRO  Amazon Customer  [0, 0]   \n",
       "\n",
       "                                               reviewText  overall  \\\n",
       "155882  We bought this to use with the Rhapsody-to-go ...        4   \n",
       "816140  Just what I needed to recharge some of my batt...        4   \n",
       "471780  These discs have media code MCC03RG20 and work...        5   \n",
       "340520  As many others have noted, this item is a rede...        4   \n",
       "926902  I have two of these for my Galaxy tablet - the...        5   \n",
       "\n",
       "                                                  summary  unixReviewTime  \\\n",
       "155882  Excellent - but Rhapsody-to-go set-up was a bi...      1146873600   \n",
       "816140                                      It Works Well      1372032000   \n",
       "471780                Great disc for professional results      1357344000   \n",
       "340520                    Buying in 2014?!  READ THIS!!!!      1404518400   \n",
       "926902                                      Solid support      1387584000   \n",
       "\n",
       "         reviewTime                                               text  \n",
       "155882   05 6, 2006  We bought this to use with the Rhapsody-to-go ...  \n",
       "816140  06 24, 2013  Just what I needed to recharge some of my batt...  \n",
       "471780   01 5, 2013  These discs have media code MCC03RG20 and work...  \n",
       "340520   07 5, 2014  As many others have noted, this item is a rede...  \n",
       "926902  12 21, 2013  I have two of these for my Galaxy tablet - the...  "
      ]
     },
     "execution_count": 9,
     "metadata": {},
     "output_type": "execute_result"
    }
   ],
   "source": [
    "sample_df.head()"
   ]
  },
  {
   "cell_type": "code",
   "execution_count": 10,
   "metadata": {},
   "outputs": [],
   "source": [
    "def clean_text(text):\n",
    "    text = text.lower()\n",
    "    text = re.sub(r'\\[.*?\\]', '', text)\n",
    "    text = re.sub(r'[^\\w\\s]', '', text)\n",
    "    text = re.sub(r'\\s+', ' ', text).strip()\n",
    "    return text\n",
    "\n",
    "sample_df['cleaned_text'] = sample_df['text'].apply(clean_text)"
   ]
  },
  {
   "cell_type": "code",
   "execution_count": 11,
   "metadata": {},
   "outputs": [
    {
     "data": {
      "text/html": [
       "<div>\n",
       "<style scoped>\n",
       "    .dataframe tbody tr th:only-of-type {\n",
       "        vertical-align: middle;\n",
       "    }\n",
       "\n",
       "    .dataframe tbody tr th {\n",
       "        vertical-align: top;\n",
       "    }\n",
       "\n",
       "    .dataframe thead th {\n",
       "        text-align: right;\n",
       "    }\n",
       "</style>\n",
       "<table border=\"1\" class=\"dataframe\">\n",
       "  <thead>\n",
       "    <tr style=\"text-align: right;\">\n",
       "      <th></th>\n",
       "      <th>text</th>\n",
       "      <th>cleaned_text</th>\n",
       "    </tr>\n",
       "  </thead>\n",
       "  <tbody>\n",
       "    <tr>\n",
       "      <th>155882</th>\n",
       "      <td>We bought this to use with the Rhapsody-to-go ...</td>\n",
       "      <td>we bought this to use with the rhapsodytogo se...</td>\n",
       "    </tr>\n",
       "    <tr>\n",
       "      <th>816140</th>\n",
       "      <td>Just what I needed to recharge some of my batt...</td>\n",
       "      <td>just what i needed to recharge some of my batt...</td>\n",
       "    </tr>\n",
       "    <tr>\n",
       "      <th>471780</th>\n",
       "      <td>These discs have media code MCC03RG20 and work...</td>\n",
       "      <td>these discs have media code mcc03rg20 and work...</td>\n",
       "    </tr>\n",
       "    <tr>\n",
       "      <th>340520</th>\n",
       "      <td>As many others have noted, this item is a rede...</td>\n",
       "      <td>as many others have noted this item is a redes...</td>\n",
       "    </tr>\n",
       "    <tr>\n",
       "      <th>926902</th>\n",
       "      <td>I have two of these for my Galaxy tablet - the...</td>\n",
       "      <td>i have two of these for my galaxy tablet they ...</td>\n",
       "    </tr>\n",
       "  </tbody>\n",
       "</table>\n",
       "</div>"
      ],
      "text/plain": [
       "                                                     text  \\\n",
       "155882  We bought this to use with the Rhapsody-to-go ...   \n",
       "816140  Just what I needed to recharge some of my batt...   \n",
       "471780  These discs have media code MCC03RG20 and work...   \n",
       "340520  As many others have noted, this item is a rede...   \n",
       "926902  I have two of these for my Galaxy tablet - the...   \n",
       "\n",
       "                                             cleaned_text  \n",
       "155882  we bought this to use with the rhapsodytogo se...  \n",
       "816140  just what i needed to recharge some of my batt...  \n",
       "471780  these discs have media code mcc03rg20 and work...  \n",
       "340520  as many others have noted this item is a redes...  \n",
       "926902  i have two of these for my galaxy tablet they ...  "
      ]
     },
     "execution_count": 11,
     "metadata": {},
     "output_type": "execute_result"
    }
   ],
   "source": [
    "sample_df[['text', 'cleaned_text']].head()"
   ]
  },
  {
   "cell_type": "markdown",
   "metadata": {},
   "source": [
    "# Step 3: Assign Labels and Binarize"
   ]
  },
  {
   "cell_type": "code",
   "execution_count": 12,
   "metadata": {},
   "outputs": [],
   "source": [
    "categories = ['product_quality', 'customer_service', 'price', 'functionality', 'ease_of_use']\n",
    "sample_df['labels'] = sample_df['cleaned_text'].apply(lambda x: np.random.choice(categories, size=np.random.randint(1, 3), replace=False).tolist())"
   ]
  },
  {
   "cell_type": "code",
   "execution_count": 13,
   "metadata": {},
   "outputs": [
    {
     "data": {
      "text/html": [
       "<div>\n",
       "<style scoped>\n",
       "    .dataframe tbody tr th:only-of-type {\n",
       "        vertical-align: middle;\n",
       "    }\n",
       "\n",
       "    .dataframe tbody tr th {\n",
       "        vertical-align: top;\n",
       "    }\n",
       "\n",
       "    .dataframe thead th {\n",
       "        text-align: right;\n",
       "    }\n",
       "</style>\n",
       "<table border=\"1\" class=\"dataframe\">\n",
       "  <thead>\n",
       "    <tr style=\"text-align: right;\">\n",
       "      <th></th>\n",
       "      <th>cleaned_text</th>\n",
       "      <th>labels</th>\n",
       "    </tr>\n",
       "  </thead>\n",
       "  <tbody>\n",
       "    <tr>\n",
       "      <th>155882</th>\n",
       "      <td>we bought this to use with the rhapsodytogo se...</td>\n",
       "      <td>[ease_of_use, product_quality]</td>\n",
       "    </tr>\n",
       "    <tr>\n",
       "      <th>816140</th>\n",
       "      <td>just what i needed to recharge some of my batt...</td>\n",
       "      <td>[price]</td>\n",
       "    </tr>\n",
       "    <tr>\n",
       "      <th>471780</th>\n",
       "      <td>these discs have media code mcc03rg20 and work...</td>\n",
       "      <td>[functionality]</td>\n",
       "    </tr>\n",
       "    <tr>\n",
       "      <th>340520</th>\n",
       "      <td>as many others have noted this item is a redes...</td>\n",
       "      <td>[ease_of_use]</td>\n",
       "    </tr>\n",
       "    <tr>\n",
       "      <th>926902</th>\n",
       "      <td>i have two of these for my galaxy tablet they ...</td>\n",
       "      <td>[product_quality]</td>\n",
       "    </tr>\n",
       "  </tbody>\n",
       "</table>\n",
       "</div>"
      ],
      "text/plain": [
       "                                             cleaned_text  \\\n",
       "155882  we bought this to use with the rhapsodytogo se...   \n",
       "816140  just what i needed to recharge some of my batt...   \n",
       "471780  these discs have media code mcc03rg20 and work...   \n",
       "340520  as many others have noted this item is a redes...   \n",
       "926902  i have two of these for my galaxy tablet they ...   \n",
       "\n",
       "                                labels  \n",
       "155882  [ease_of_use, product_quality]  \n",
       "816140                         [price]  \n",
       "471780                 [functionality]  \n",
       "340520                   [ease_of_use]  \n",
       "926902               [product_quality]  "
      ]
     },
     "execution_count": 13,
     "metadata": {},
     "output_type": "execute_result"
    }
   ],
   "source": [
    "sample_df[['cleaned_text', 'labels']].head()"
   ]
  },
  {
   "cell_type": "code",
   "execution_count": 14,
   "metadata": {},
   "outputs": [],
   "source": [
    "mlb = MultiLabelBinarizer()\n",
    "y = mlb.fit_transform(sample_df['labels'])"
   ]
  },
  {
   "cell_type": "code",
   "execution_count": 15,
   "metadata": {},
   "outputs": [
    {
     "data": {
      "text/html": [
       "<div>\n",
       "<style scoped>\n",
       "    .dataframe tbody tr th:only-of-type {\n",
       "        vertical-align: middle;\n",
       "    }\n",
       "\n",
       "    .dataframe tbody tr th {\n",
       "        vertical-align: top;\n",
       "    }\n",
       "\n",
       "    .dataframe thead th {\n",
       "        text-align: right;\n",
       "    }\n",
       "</style>\n",
       "<table border=\"1\" class=\"dataframe\">\n",
       "  <thead>\n",
       "    <tr style=\"text-align: right;\">\n",
       "      <th></th>\n",
       "      <th>customer_service</th>\n",
       "      <th>ease_of_use</th>\n",
       "      <th>functionality</th>\n",
       "      <th>price</th>\n",
       "      <th>product_quality</th>\n",
       "    </tr>\n",
       "  </thead>\n",
       "  <tbody>\n",
       "    <tr>\n",
       "      <th>0</th>\n",
       "      <td>0</td>\n",
       "      <td>1</td>\n",
       "      <td>0</td>\n",
       "      <td>0</td>\n",
       "      <td>1</td>\n",
       "    </tr>\n",
       "    <tr>\n",
       "      <th>1</th>\n",
       "      <td>0</td>\n",
       "      <td>0</td>\n",
       "      <td>0</td>\n",
       "      <td>1</td>\n",
       "      <td>0</td>\n",
       "    </tr>\n",
       "    <tr>\n",
       "      <th>2</th>\n",
       "      <td>0</td>\n",
       "      <td>0</td>\n",
       "      <td>1</td>\n",
       "      <td>0</td>\n",
       "      <td>0</td>\n",
       "    </tr>\n",
       "    <tr>\n",
       "      <th>3</th>\n",
       "      <td>0</td>\n",
       "      <td>1</td>\n",
       "      <td>0</td>\n",
       "      <td>0</td>\n",
       "      <td>0</td>\n",
       "    </tr>\n",
       "    <tr>\n",
       "      <th>4</th>\n",
       "      <td>0</td>\n",
       "      <td>0</td>\n",
       "      <td>0</td>\n",
       "      <td>0</td>\n",
       "      <td>1</td>\n",
       "    </tr>\n",
       "  </tbody>\n",
       "</table>\n",
       "</div>"
      ],
      "text/plain": [
       "   customer_service  ease_of_use  functionality  price  product_quality\n",
       "0                 0            1              0      0                1\n",
       "1                 0            0              0      1                0\n",
       "2                 0            0              1      0                0\n",
       "3                 0            1              0      0                0\n",
       "4                 0            0              0      0                1"
      ]
     },
     "execution_count": 15,
     "metadata": {},
     "output_type": "execute_result"
    }
   ],
   "source": [
    "pd.DataFrame(y, columns=mlb.classes_).head()"
   ]
  },
  {
   "cell_type": "markdown",
   "metadata": {},
   "source": [
    "# Step 4: Tokenization using BERT"
   ]
  },
  {
   "cell_type": "code",
   "execution_count": 16,
   "metadata": {},
   "outputs": [],
   "source": [
    "tokenizer = BertTokenizer.from_pretrained('bert-base-uncased')\n",
    "\n",
    "def tokenize_function(text):\n",
    "    return tokenizer(text, padding='max_length', truncation=True, max_length=512)\n",
    "\n",
    "encodings = sample_df['cleaned_text'].apply(tokenize_function)\n",
    "input_ids = [encoding['input_ids'] for encoding in encodings]\n",
    "attention_masks = [encoding['attention_mask'] for encoding in encodings]"
   ]
  },
  {
   "cell_type": "code",
   "execution_count": 17,
   "metadata": {},
   "outputs": [
    {
     "data": {
      "text/plain": [
       "((100000, 512), (100000, 512))"
      ]
     },
     "execution_count": 17,
     "metadata": {},
     "output_type": "execute_result"
    }
   ],
   "source": [
    "np.array(input_ids).shape, np.array(attention_masks).shape"
   ]
  },
  {
   "cell_type": "markdown",
   "metadata": {},
   "source": [
    "# Step 5: Train-Test Split"
   ]
  },
  {
   "cell_type": "code",
   "execution_count": 18,
   "metadata": {},
   "outputs": [],
   "source": [
    "X_train, X_test, y_train, y_test = train_test_split(list(zip(input_ids, attention_masks)), y, test_size=0.2, random_state=42)"
   ]
  },
  {
   "cell_type": "code",
   "execution_count": 19,
   "metadata": {},
   "outputs": [
    {
     "data": {
      "text/plain": [
       "(80000, 20000, (80000, 5), (20000, 5))"
      ]
     },
     "execution_count": 19,
     "metadata": {},
     "output_type": "execute_result"
    }
   ],
   "source": [
    "len(X_train), len(X_test), y_train.shape, y_test.shape"
   ]
  },
  {
   "cell_type": "markdown",
   "metadata": {},
   "source": [
    "# Step 6: Model Preparation"
   ]
  },
  {
   "cell_type": "code",
   "execution_count": 20,
   "metadata": {},
   "outputs": [
    {
     "name": "stderr",
     "output_type": "stream",
     "text": [
      "Some weights of BertForSequenceClassification were not initialized from the model checkpoint at bert-base-uncased and are newly initialized: ['classifier.bias', 'classifier.weight']\n",
      "You should probably TRAIN this model on a down-stream task to be able to use it for predictions and inference.\n",
      "c:\\Users\\ADMIN\\Desktop\\Multi-Label Classification of Customer Support Tickets with Fine-Tuned BERT\\venv\\lib\\site-packages\\transformers\\optimization.py:591: FutureWarning: This implementation of AdamW is deprecated and will be removed in a future version. Use the PyTorch implementation torch.optim.AdamW instead, or set `no_deprecation_warning=True` to disable this warning\n",
      "  warnings.warn(\n"
     ]
    }
   ],
   "source": [
    "device = torch.device(\"cpu\")\n",
    "X_train_sampled = X_train[:500]\n",
    "y_train_sampled = y_train[:500]\n",
    "\n",
    "X_train_input_ids = torch.tensor([x[0][:128] for x in X_train_sampled], dtype=torch.long)\n",
    "X_train_attention_mask = torch.tensor([x[1][:128] for x in X_train_sampled], dtype=torch.long)\n",
    "y_train_tensor = torch.tensor(y_train_sampled, dtype=torch.float)\n",
    "\n",
    "train_data = TensorDataset(X_train_input_ids, X_train_attention_mask, y_train_tensor)\n",
    "train_dataloader = DataLoader(train_data, batch_size=32, shuffle=True)\n",
    "\n",
    "model = BertForSequenceClassification.from_pretrained('bert-base-uncased', num_labels=len(mlb.classes_))\n",
    "model.to(device)\n",
    "optimizer = AdamW(model.parameters(), lr=5e-5, weight_decay=0.01)\n",
    "loss_fn = torch.nn.BCEWithLogitsLoss()"
   ]
  },
  {
   "cell_type": "markdown",
   "metadata": {},
   "source": [
    "# Step 7: Training the Model"
   ]
  },
  {
   "cell_type": "code",
   "execution_count": 21,
   "metadata": {},
   "outputs": [
    {
     "name": "stderr",
     "output_type": "stream",
     "text": [
      "Epoch 1/10: 100%|██████████| 16/16 [08:06<00:00, 30.41s/it, Loss=0.3046, ETA=0.00s]  \n"
     ]
    },
    {
     "name": "stdout",
     "output_type": "stream",
     "text": [
      "Epoch 1/10 completed! Average Loss: 0.6433\n"
     ]
    },
    {
     "name": "stderr",
     "output_type": "stream",
     "text": [
      "Epoch 2/10: 100%|██████████| 16/16 [31:59<00:00, 119.97s/it, Loss=0.3065, ETA=0.00s]    \n"
     ]
    },
    {
     "name": "stdout",
     "output_type": "stream",
     "text": [
      "Epoch 2/10 completed! Average Loss: 0.6095\n"
     ]
    },
    {
     "name": "stderr",
     "output_type": "stream",
     "text": [
      "Epoch 3/10: 100%|██████████| 16/16 [06:02<00:00, 22.65s/it, Loss=0.2980, ETA=0.00s]  \n"
     ]
    },
    {
     "name": "stdout",
     "output_type": "stream",
     "text": [
      "Epoch 3/10 completed! Average Loss: 0.6054\n"
     ]
    },
    {
     "name": "stderr",
     "output_type": "stream",
     "text": [
      "Epoch 4/10: 100%|██████████| 16/16 [10:01<00:00, 37.61s/it, Loss=0.2928, ETA=0.00s]  \n"
     ]
    },
    {
     "name": "stdout",
     "output_type": "stream",
     "text": [
      "Epoch 4/10 completed! Average Loss: 0.6030\n"
     ]
    },
    {
     "name": "stderr",
     "output_type": "stream",
     "text": [
      "Epoch 5/10: 100%|██████████| 16/16 [15:29<00:00, 58.09s/it, Loss=0.2970, ETA=0.00s]   \n"
     ]
    },
    {
     "name": "stdout",
     "output_type": "stream",
     "text": [
      "Epoch 5/10 completed! Average Loss: 0.5986\n"
     ]
    },
    {
     "name": "stderr",
     "output_type": "stream",
     "text": [
      "Epoch 6/10: 100%|██████████| 16/16 [05:22<00:00, 20.13s/it, Loss=0.2931, ETA=0.00s]  \n"
     ]
    },
    {
     "name": "stdout",
     "output_type": "stream",
     "text": [
      "Epoch 6/10 completed! Average Loss: 0.5868\n"
     ]
    },
    {
     "name": "stderr",
     "output_type": "stream",
     "text": [
      "Epoch 7/10: 100%|██████████| 16/16 [06:43<00:00, 25.23s/it, Loss=0.2811, ETA=0.00s]  \n"
     ]
    },
    {
     "name": "stdout",
     "output_type": "stream",
     "text": [
      "Epoch 7/10 completed! Average Loss: 0.5686\n"
     ]
    },
    {
     "name": "stderr",
     "output_type": "stream",
     "text": [
      "Epoch 8/10: 100%|██████████| 16/16 [06:32<00:00, 24.52s/it, Loss=0.2634, ETA=0.00s]  \n"
     ]
    },
    {
     "name": "stdout",
     "output_type": "stream",
     "text": [
      "Epoch 8/10 completed! Average Loss: 0.5451\n"
     ]
    },
    {
     "name": "stderr",
     "output_type": "stream",
     "text": [
      "Epoch 9/10: 100%|██████████| 16/16 [05:48<00:00, 21.80s/it, Loss=0.2362, ETA=0.00s]  \n"
     ]
    },
    {
     "name": "stdout",
     "output_type": "stream",
     "text": [
      "Epoch 9/10 completed! Average Loss: 0.5150\n"
     ]
    },
    {
     "name": "stderr",
     "output_type": "stream",
     "text": [
      "Epoch 10/10: 100%|██████████| 16/16 [08:07<00:00, 30.49s/it, Loss=0.2242, ETA=0.00s]  "
     ]
    },
    {
     "name": "stdout",
     "output_type": "stream",
     "text": [
      "Epoch 10/10 completed! Average Loss: 0.4914\n",
      "Training completed successfully!\n"
     ]
    },
    {
     "name": "stderr",
     "output_type": "stream",
     "text": [
      "\n"
     ]
    }
   ],
   "source": [
    "epochs = 10\n",
    "grad_accum_steps = 2\n",
    "\n",
    "model.train()\n",
    "for epoch in range(epochs):\n",
    "    total_loss = 0\n",
    "    start_time = time.time()\n",
    "    progress_bar = tqdm(train_dataloader, desc=f\"Epoch {epoch+1}/{epochs}\", leave=True)\n",
    "    \n",
    "    for step, batch in enumerate(progress_bar):\n",
    "        input_ids, attention_mask, labels = [b.to(device) for b in batch]\n",
    "        optimizer.zero_grad()\n",
    "        outputs = model(input_ids=input_ids, attention_mask=attention_mask, labels=labels)\n",
    "        loss = outputs.loss / grad_accum_steps\n",
    "        loss.backward()\n",
    "        \n",
    "        if (step + 1) % grad_accum_steps == 0:\n",
    "            optimizer.step()\n",
    "            optimizer.zero_grad()\n",
    "        \n",
    "        total_loss += loss.item() * grad_accum_steps\n",
    "        elapsed_time = time.time() - start_time\n",
    "        avg_time_per_batch = elapsed_time / (step + 1)\n",
    "        estimated_time_left = avg_time_per_batch * (len(train_dataloader) - step - 1)\n",
    "        progress_bar.set_postfix({\"Loss\": f\"{loss.item():.4f}\", \"ETA\": f\"{estimated_time_left:.2f}s\"})\n",
    "    \n",
    "    print(f\"Epoch {epoch + 1}/{epochs} completed! Average Loss: {total_loss / len(train_dataloader):.4f}\")\n",
    "\n",
    "print(\"Training completed successfully!\")"
   ]
  },
  {
   "cell_type": "markdown",
   "metadata": {},
   "source": [
    "# Step 8: Evaluation"
   ]
  },
  {
   "cell_type": "code",
   "execution_count": 22,
   "metadata": {},
   "outputs": [
    {
     "name": "stderr",
     "output_type": "stream",
     "text": [
      "Evaluating: 100%|██████████| 16/16 [01:54<00:00,  7.18s/it]\n"
     ]
    },
    {
     "name": "stdout",
     "output_type": "stream",
     "text": [
      "Model Accuracy: 0.1160\n",
      "\n",
      "Classification Report:\n",
      "                  precision    recall  f1-score   support\n",
      "\n",
      "customer_service       0.62      0.88      0.73       157\n",
      "     ease_of_use       0.42      0.90      0.57       162\n",
      "   functionality       0.83      0.90      0.86       144\n",
      "           price       0.37      0.95      0.54       135\n",
      " product_quality       0.37      0.99      0.54       149\n",
      "\n",
      "       micro avg       0.47      0.92      0.62       747\n",
      "       macro avg       0.52      0.92      0.65       747\n",
      "    weighted avg       0.52      0.92      0.65       747\n",
      "     samples avg       0.51      0.93      0.63       747\n",
      "\n"
     ]
    },
    {
     "name": "stderr",
     "output_type": "stream",
     "text": [
      "c:\\Users\\ADMIN\\Desktop\\Multi-Label Classification of Customer Support Tickets with Fine-Tuned BERT\\venv\\lib\\site-packages\\sklearn\\metrics\\_classification.py:1471: UndefinedMetricWarning: Precision and F-score are ill-defined and being set to 0.0 in samples with no predicted labels. Use `zero_division` parameter to control this behavior.\n",
      "  _warn_prf(average, modifier, msg_start, len(result))\n"
     ]
    }
   ],
   "source": [
    "model.eval()\n",
    "true_labels = []\n",
    "pred_labels = []\n",
    "\n",
    "with torch.no_grad():\n",
    "    for batch in tqdm(train_dataloader, desc=\"Evaluating\"):\n",
    "        input_ids, attention_mask, labels = [b.to(device) for b in batch]\n",
    "        outputs = model(input_ids=input_ids, attention_mask=attention_mask)\n",
    "        logits = outputs.logits\n",
    "        preds = torch.sigmoid(logits).cpu().numpy()\n",
    "        preds = (preds > 0.3).astype(int)\n",
    "        true_labels.extend(labels.cpu().numpy())\n",
    "        pred_labels.extend(preds)\n",
    "\n",
    "accuracy = accuracy_score(true_labels, pred_labels)\n",
    "accuracy=accuracy\n",
    "print(f\"Model Accuracy: {accuracy:.4f}\")\n",
    "print(\"\\nClassification Report:\")\n",
    "print(classification_report(true_labels, pred_labels, target_names=mlb.classes_))"
   ]
  },
  {
   "cell_type": "markdown",
   "metadata": {},
   "source": [
    "# Step 9: Save Model and Tokenizer"
   ]
  },
  {
   "cell_type": "code",
   "execution_count": 23,
   "metadata": {},
   "outputs": [],
   "source": [
    "model.save_pretrained('fine_tuned_bert')\n",
    "tokenizer.save_pretrained('fine_tuned_bert')\n",
    "torch.save(optimizer.state_dict(), 'optimizer.pth')"
   ]
  },
  {
   "cell_type": "markdown",
   "metadata": {},
   "source": [
    "# Step 10: Prediction Function"
   ]
  },
  {
   "cell_type": "code",
   "execution_count": 24,
   "metadata": {},
   "outputs": [
    {
     "name": "stdout",
     "output_type": "stream",
     "text": [
      "Predicted Labels: ['customer_service' 'ease_of_use']\n"
     ]
    }
   ],
   "source": [
    "def predict(text):\n",
    "    cleaned_text = clean_text(text)\n",
    "    encoding = tokenizer(cleaned_text, padding='max_length', truncation=True, max_length=512, return_tensors='pt')\n",
    "    encoding = {key: value.to(device) for key, value in encoding.items()}\n",
    "    model.eval()\n",
    "    with torch.no_grad():\n",
    "        output = model(**encoding)\n",
    "        logits = output.logits\n",
    "        preds = torch.sigmoid(logits).cpu().numpy()\n",
    "    predictions = (preds >= 0.3).astype(int)\n",
    "    unique_predictions = np.unique(mlb.classes_[predictions.flatten()])\n",
    "    return unique_predictions\n",
    "\n",
    "\n",
    "sample_text = \"This product is amazing, it works really well and is easy to use!\"\n",
    "predicted_labels = predict(sample_text)\n",
    "print(f\"Predicted Labels: {predicted_labels}\")\n"
   ]
  },
  {
   "cell_type": "markdown",
   "metadata": {},
   "source": [
    "# Step 11: Data Analysis and Visualization with Matplotlib"
   ]
  },
  {
   "cell_type": "code",
   "execution_count": 25,
   "metadata": {},
   "outputs": [],
   "source": [
    "import matplotlib.pyplot as plt\n"
   ]
  },
  {
   "cell_type": "code",
   "execution_count": 26,
   "metadata": {},
   "outputs": [
    {
     "data": {
      "image/png": "[encoded data removed]",
      "text/plain": [
       "<Figure size 1000x600 with 1 Axes>"
      ]
     },
     "metadata": {},
     "output_type": "display_data"
    }
   ],
   "source": [
    "# 1. Label Distribution\n",
    "\n",
    "all_labels = [label for sublist in sample_df['labels'] for label in sublist]\n",
    "label_counts = pd.Series(all_labels).value_counts()\n",
    "\n",
    "# Plot the label distribution\n",
    "plt.figure(figsize=(10, 6))\n",
    "label_counts.plot(kind='bar', color='skyblue')\n",
    "plt.title('Label Distribution')\n",
    "plt.xlabel('Categories')\n",
    "plt.ylabel('Frequency')\n",
    "plt.xticks(rotation=45)\n",
    "plt.show()"
   ]
  },
  {
   "cell_type": "code",
   "execution_count": 27,
   "metadata": {},
   "outputs": [
    {
     "data": {
      "image/png": "[encoded data removed]",
      "text/plain": [
       "<Figure size 1000x600 with 1 Axes>"
      ]
     },
     "metadata": {},
     "output_type": "display_data"
    }
   ],
   "source": [
    "# 2. Text Length Distribution\n",
    "\n",
    "sample_df['text_length'] = sample_df['cleaned_text'].apply(len)\n",
    "\n",
    "# Plot the distribution of text lengths\n",
    "plt.figure(figsize=(10, 6))\n",
    "plt.hist(sample_df['text_length'], bins=50, color='lightcoral', range=(0, 5000))\n",
    "plt.title('Text Length Distribution')\n",
    "plt.xlabel('Text Length (characters)')\n",
    "plt.ylabel('Frequency')\n",
    "plt.tight_layout()  \n",
    "plt.show()"
   ]
  },
  {
   "cell_type": "code",
   "execution_count": 28,
   "metadata": {},
   "outputs": [
    {
     "data": {
      "image/png": "[encoded data removed]",
      "text/plain": [
       "<Figure size 1000x600 with 1 Axes>"
      ]
     },
     "metadata": {},
     "output_type": "display_data"
    }
   ],
   "source": [
    "# 3. Distribution of Number of Labels per Review\n",
    "\n",
    "num_labels_per_review = sample_df['labels'].apply(len)\n",
    "\n",
    "# Plot the distribution of number of labels\n",
    "plt.figure(figsize=(10, 6))\n",
    "plt.hist(num_labels_per_review, bins=10, color='lightgreen')\n",
    "plt.title('Number of Labels per Review')\n",
    "plt.xlabel('Number of Labels')\n",
    "plt.ylabel('Frequency')\n",
    "plt.show()"
   ]
  },
  {
   "cell_type": "code",
   "execution_count": 29,
   "metadata": {},
   "outputs": [
    {
     "data": {
      "image/png": "[encoded data removed]",
      "text/plain": [
       "<Figure size 1000x600 with 1 Axes>"
      ]
     },
     "metadata": {},
     "output_type": "display_data"
    }
   ],
   "source": [
    "# 4. Average Text Length per Label Category\n",
    "\n",
    "category_avg_text_length = sample_df.explode('labels').groupby('labels')['text_length'].mean()\n",
    "\n",
    "# Plot the average text length per category\n",
    "plt.figure(figsize=(10, 6))\n",
    "category_avg_text_length.sort_values().plot(kind='bar', color='lightblue')\n",
    "plt.title('Average Text Length per Label Category')\n",
    "plt.xlabel('Label Category')\n",
    "plt.ylabel('Average Text Length (characters)')\n",
    "plt.xticks(rotation=45)\n",
    "plt.show()"
   ]
  }
 ],
 "metadata": {
  "kernelspec": {
   "display_name": "venv",
   "language": "python",
   "name": "python3"
  },
  "language_info": {
   "codemirror_mode": {
    "name": "ipython",
    "version": 3
   },
   "file_extension": ".py",
   "mimetype": "text/x-python",
   "name": "python",
   "nbconvert_exporter": "python",
   "pygments_lexer": "ipython3",
   "version": "3.8.0rc1"
  }
 },
 "nbformat": 4,
 "nbformat_minor": 2
}
